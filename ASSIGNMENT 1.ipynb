{
 "cells": [
  {
   "cell_type": "raw",
   "id": "6d0dd9d9-78cd-4007-86e9-032b96cc480f",
   "metadata": {},
   "source": [
    "Ans 1: Following are the key features that make it popular choice for programming .\n",
    "1) Easy to use : The words in programming or we can say language used in programming is english based , therefore it is \n",
    "   easy to use .\n",
    "2)Easy to learn : The language is englishbased which make it easier for the users to learn and the keywords have the same meaning as the have in english .\n",
    "3)Widely used in Industries: One of the main reason that nowdays all are learning python is because it is widely using in industries . Companies need that \n",
    "  programmer who knows python.\n",
    "4)It hase large numder of libraries . \n",
    "5) It has a huge active community.\n",
    "\n",
    "Ans 2: Predefined keywords the keywords which are already built in the python language and you can directly use them  without definig them .IT saves your time , nad reduces the lenght of the code . There are 32 keywords in the python programming language . ex- if,print, input etc."
   ]
  },
  {
   "cell_type": "code",
   "execution_count": 1,
   "id": "e7f839e0-07ad-4f48-b18a-8db8008c3c96",
   "metadata": {},
   "outputs": [
    {
     "name": "stdout",
     "output_type": "stream",
     "text": [
      "Hi Neha!!\n"
     ]
    }
   ],
   "source": [
    "print(\"Hi Neha!!\")#EXAMPLE FOR 2\n"
   ]
  },
  {
   "cell_type": "code",
   "execution_count": 4,
   "id": "1d1791dc-11a4-4122-91b4-46ef6a74e0d2",
   "metadata": {},
   "outputs": [
    {
     "name": "stdout",
     "output_type": "stream",
     "text": [
      "greater\n"
     ]
    }
   ],
   "source": [
    "if ( 3>2):# EXAMPLE FOR 2\n",
    "    print(\"greater\")\n",
    "  \n"
   ]
  },
  {
   "cell_type": "raw",
   "id": "0a6a1e10-9c83-4ab2-a2aa-3f9e6120af12",
   "metadata": {},
   "source": [
    "Ans 3 :\n",
    "MUTABLE OBJECTS: Objects whose state can be chnaged after they are created are known as mutable objects .\n",
    "ex-LIST\n",
    "IMMUTABLE OBJECTS :Objects whose state cannot be changed after they are created are known as immutable objects .\n",
    "ex-STRING"
   ]
  },
  {
   "cell_type": "code",
   "execution_count": 32,
   "id": "ce018088-e855-4631-aaf8-a0fcfd2c201a",
   "metadata": {},
   "outputs": [
    {
     "data": {
      "text/plain": [
       "1"
      ]
     },
     "execution_count": 32,
     "metadata": {},
     "output_type": "execute_result"
    }
   ],
   "source": [
    "LIST_BOX=[1,34,55.6,(2+5j),\"naman\",\"A\",]\n",
    "LIST_BOX[0]\n"
   ]
  },
  {
   "cell_type": "code",
   "execution_count": 33,
   "id": "f60ed46a-6dbe-4aab-94b2-2942e0dcd7f2",
   "metadata": {},
   "outputs": [
    {
     "data": {
      "text/plain": [
       "'naman'"
      ]
     },
     "execution_count": 33,
     "metadata": {},
     "output_type": "execute_result"
    }
   ],
   "source": [
    "LIST_BOX[4]"
   ]
  },
  {
   "cell_type": "code",
   "execution_count": 34,
   "id": "6329c17b-013b-4b4c-b817-406187ab6a4a",
   "metadata": {},
   "outputs": [
    {
     "data": {
      "text/plain": [
       "'A'"
      ]
     },
     "execution_count": 34,
     "metadata": {},
     "output_type": "execute_result"
    }
   ],
   "source": [
    "LIST_BOX[5]"
   ]
  },
  {
   "cell_type": "code",
   "execution_count": 35,
   "id": "6c860f94-d49d-4670-ab81-07801648c63a",
   "metadata": {},
   "outputs": [
    {
     "data": {
      "text/plain": [
       "(2+5j)"
      ]
     },
     "execution_count": 35,
     "metadata": {},
     "output_type": "execute_result"
    }
   ],
   "source": [
    "LIST_BOX[3]"
   ]
  },
  {
   "cell_type": "code",
   "execution_count": 37,
   "id": "5e122c2c-107b-4474-b31b-9a0200d0567d",
   "metadata": {},
   "outputs": [
    {
     "data": {
      "text/plain": [
       "50"
      ]
     },
     "execution_count": 37,
     "metadata": {},
     "output_type": "execute_result"
    }
   ],
   "source": [
    "LIST_BOX[0]=50\n",
    "LIST_BOX[0]"
   ]
  },
  {
   "cell_type": "code",
   "execution_count": 38,
   "id": "2ab3e910-3acd-495c-8a3b-cd9a03e17837",
   "metadata": {},
   "outputs": [
    {
     "data": {
      "text/plain": [
       "[50, 34, 55.6, (2+5j), 'naman', 'A']"
      ]
     },
     "execution_count": 38,
     "metadata": {},
     "output_type": "execute_result"
    }
   ],
   "source": [
    "LIST_BOX"
   ]
  },
  {
   "cell_type": "raw",
   "id": "585f9fa4-fd82-474c-a850-bfd2a6c732d9",
   "metadata": {},
   "source": [
    "Ans 4:There are 5 type of operator present in the python programming language .\n",
    "AIRTHMATIC OPERATOR : It includes airthmatic operations like +,-,*,/,//. These operators areb used to perform airthmatic operations .\n",
    "ASSIGNMENT OPERATOR :These operators are use to assign the values , it includes +=,-+,/=etc.\n",
    "LOGICAL OPERATOR : These operator includes AND ,OR,NOT.\n",
    "SHIFT OPERATOR :This operator is use to shift the bit either right side or left side .\n",
    "MEMBERSHIP OPERATOR:This operator check whether the given bit is present in the word or not .\n",
    "IDENTITY OPERATOR :This compares location of two objects.\n",
    "BITWISE OPERATOR :it include &,+,~,etc\n",
    "COMPARISON OPERATOR : It compares the two values and return the boolean values."
   ]
  },
  {
   "cell_type": "code",
   "execution_count": 1,
   "id": "f527bd8f-7d6d-45cf-b0f6-88957ab925aa",
   "metadata": {},
   "outputs": [
    {
     "data": {
      "text/plain": [
       "10"
      ]
     },
     "execution_count": 1,
     "metadata": {},
     "output_type": "execute_result"
    }
   ],
   "source": [
    "#AIRTHMATIC OPERATOR\n",
    "a=5\n",
    "b=5\n",
    "a+b"
   ]
  },
  {
   "cell_type": "code",
   "execution_count": 5,
   "id": "7632a600-cb17-426c-b643-4860061de0d9",
   "metadata": {},
   "outputs": [
    {
     "data": {
      "text/plain": [
       "4"
      ]
     },
     "execution_count": 5,
     "metadata": {},
     "output_type": "execute_result"
    }
   ],
   "source": [
    "#ASSIGNMENT OPERATOR\n",
    "b=7\n",
    "b-=3\n",
    "c=b\n",
    "c"
   ]
  },
  {
   "cell_type": "code",
   "execution_count": 11,
   "id": "55c53d6a-ad14-43f0-b063-947b1fe39d55",
   "metadata": {},
   "outputs": [
    {
     "name": "stdin",
     "output_type": "stream",
     "text": [
      "enter the value of a:  1\n",
      "enter the input of b:  1\n"
     ]
    },
    {
     "name": "stdout",
     "output_type": "stream",
     "text": [
      "TRUE\n"
     ]
    }
   ],
   "source": [
    "#LOGICAL OPERATOR \n",
    "a= int(input(\"enter the value of a: \"))\n",
    "b=int(input(\"enter the input of b: \"))\n",
    "if((a==1) and ( b==1)):\n",
    "      print(\"TRUE\")\n",
    "else:\n",
    "      print(\"FALSE\")\n",
    "      "
   ]
  },
  {
   "cell_type": "code",
   "execution_count": 12,
   "id": "6b05ab73-1ef5-41ea-9e19-3caf05e6d3f5",
   "metadata": {},
   "outputs": [
    {
     "name": "stdin",
     "output_type": "stream",
     "text": [
      "enter the value of a:  4\n",
      "enter the input of b:  5\n"
     ]
    },
    {
     "name": "stdout",
     "output_type": "stream",
     "text": [
      "FALSE\n"
     ]
    }
   ],
   "source": [
    "a= int(input(\"enter the value of a: \"))\n",
    "b=int(input(\"enter the input of b: \"))\n",
    "if((a==1) and ( b==1)):\n",
    "      print(\"TRUE\")\n",
    "else:\n",
    "      print(\"FALSE\")"
   ]
  },
  {
   "cell_type": "code",
   "execution_count": 13,
   "id": "bb6b6b85-816d-4061-9ad0-9e513371c8db",
   "metadata": {},
   "outputs": [
    {
     "data": {
      "text/plain": [
       "17"
      ]
     },
     "execution_count": 13,
     "metadata": {},
     "output_type": "execute_result"
    }
   ],
   "source": [
    "#SHIFT OPERATOR\n",
    "35>>1"
   ]
  },
  {
   "cell_type": "code",
   "execution_count": 14,
   "id": "567f33ad-7d47-493f-aeb8-230be75cf5c5",
   "metadata": {},
   "outputs": [
    {
     "data": {
      "text/plain": [
       "216"
      ]
     },
     "execution_count": 14,
     "metadata": {},
     "output_type": "execute_result"
    }
   ],
   "source": [
    "#SHIFT OPERATOR\n",
    "54<<2\n"
   ]
  },
  {
   "cell_type": "code",
   "execution_count": 16,
   "id": "f0bf59b7-8cf9-49a8-bd2e-090f157dd6cd",
   "metadata": {},
   "outputs": [
    {
     "data": {
      "text/plain": [
       "True"
      ]
     },
     "execution_count": 16,
     "metadata": {},
     "output_type": "execute_result"
    }
   ],
   "source": [
    "#MEMBERSHIP  OPERATOR\n",
    "b=\"BHOPAL\"\n",
    "\"A\" in b"
   ]
  },
  {
   "cell_type": "code",
   "execution_count": 17,
   "id": "0cb1bf66-1468-43d6-8ff9-74bef1d29bb1",
   "metadata": {},
   "outputs": [
    {
     "data": {
      "text/plain": [
       "True"
      ]
     },
     "execution_count": 17,
     "metadata": {},
     "output_type": "execute_result"
    }
   ],
   "source": [
    "#MEMBERSHIP  OPERATOR\n",
    "b=\"BHOPAL\"\n",
    "\"BHO\" in b"
   ]
  },
  {
   "cell_type": "code",
   "execution_count": 18,
   "id": "42ca85b8-89cf-4d79-afd2-7cf2304dad13",
   "metadata": {},
   "outputs": [
    {
     "data": {
      "text/plain": [
       "False"
      ]
     },
     "execution_count": 18,
     "metadata": {},
     "output_type": "execute_result"
    }
   ],
   "source": [
    "#MEMBERSHIP  OPERATOR\n",
    "b=\"BHOPAL\"\n",
    "\"al\" in b"
   ]
  },
  {
   "cell_type": "code",
   "execution_count": 19,
   "id": "306149d6-0946-4d0d-b82f-5924b1da7dea",
   "metadata": {},
   "outputs": [
    {
     "data": {
      "text/plain": [
       "False"
      ]
     },
     "execution_count": 19,
     "metadata": {},
     "output_type": "execute_result"
    }
   ],
   "source": [
    "#IDENTITY OPERATOR\n",
    "a=3\n",
    "b=4\n",
    "a is b "
   ]
  },
  {
   "cell_type": "code",
   "execution_count": null,
   "id": "9dab108c-bf1e-4769-a547-578e3cd42c68",
   "metadata": {},
   "outputs": [],
   "source": [
    "#IDENTITY OPERATOR\n",
    "a=1\n",
    "b=1\n",
    "a is b "
   ]
  },
  {
   "cell_type": "code",
   "execution_count": 20,
   "id": "511bb461-f2d2-4fbd-a3cc-0c037d5b4036",
   "metadata": {},
   "outputs": [
    {
     "data": {
      "text/plain": [
       "False"
      ]
     },
     "execution_count": 20,
     "metadata": {},
     "output_type": "execute_result"
    }
   ],
   "source": [
    "a=\"neha\"\n",
    "b=\"NEHA\"\n",
    "a is b"
   ]
  },
  {
   "cell_type": "code",
   "execution_count": 21,
   "id": "a9fd1946-907f-4a6d-95dc-9635e0da7bdc",
   "metadata": {},
   "outputs": [
    {
     "data": {
      "text/plain": [
       "True"
      ]
     },
     "execution_count": 21,
     "metadata": {},
     "output_type": "execute_result"
    }
   ],
   "source": [
    "a=\"NEHA\"\n",
    "b=\"NEHA\"\n",
    "a is b"
   ]
  },
  {
   "cell_type": "code",
   "execution_count": 22,
   "id": "f127990d-0616-4235-993c-fa3c21094aeb",
   "metadata": {},
   "outputs": [
    {
     "data": {
      "text/plain": [
       "False"
      ]
     },
     "execution_count": 22,
     "metadata": {},
     "output_type": "execute_result"
    }
   ],
   "source": [
    "#COMPARATOR OPERATOR \n",
    "a=3\n",
    "b=8\n",
    "a>b"
   ]
  },
  {
   "cell_type": "code",
   "execution_count": 23,
   "id": "778b318d-377c-461c-b2d2-be19d36b32c1",
   "metadata": {},
   "outputs": [
    {
     "data": {
      "text/plain": [
       "True"
      ]
     },
     "execution_count": 23,
     "metadata": {},
     "output_type": "execute_result"
    }
   ],
   "source": [
    "#COMPARATOR OPERATOR \n",
    "a=10\n",
    "b=8\n",
    "a>b"
   ]
  },
  {
   "cell_type": "code",
   "execution_count": 29,
   "id": "61157fcb-c206-41c0-ad0f-55009b273cf8",
   "metadata": {},
   "outputs": [
    {
     "data": {
      "text/plain": [
       "10"
      ]
     },
     "execution_count": 29,
     "metadata": {},
     "output_type": "execute_result"
    }
   ],
   "source": [
    "#BITWISE  OPERATOR\n",
    "a=8\n",
    "b=10\n",
    "a|b"
   ]
  },
  {
   "cell_type": "code",
   "execution_count": 28,
   "id": "f492d3b0-1728-4be4-ac66-182e28502980",
   "metadata": {},
   "outputs": [
    {
     "data": {
      "text/plain": [
       "8"
      ]
     },
     "execution_count": 28,
     "metadata": {},
     "output_type": "execute_result"
    }
   ],
   "source": [
    "#BITWISE  OPERATOR\n",
    "a=8\n",
    "b=10\n",
    "a&b"
   ]
  },
  {
   "cell_type": "raw",
   "id": "db58e0cc-d0d9-4e02-aea3-0dfb4b28bdd8",
   "metadata": {},
   "source": [
    "Ans 5: Type casting is the process in which we change the type of the data .Cast means change the format ."
   ]
  },
  {
   "cell_type": "code",
   "execution_count": 5,
   "id": "aa6e0433-6fd7-42ce-b380-e31eaf33ab04",
   "metadata": {},
   "outputs": [
    {
     "data": {
      "text/plain": [
       "str"
      ]
     },
     "execution_count": 5,
     "metadata": {},
     "output_type": "execute_result"
    }
   ],
   "source": [
    "a=\"Neha\"# here we cant chane it into integer beacuse it cant hold the values whose base is 10.\n",
    "type(a)"
   ]
  },
  {
   "cell_type": "code",
   "execution_count": 7,
   "id": "d7797565-4ffa-4512-8334-f7a9a8b23e90",
   "metadata": {},
   "outputs": [
    {
     "data": {
      "text/plain": [
       "int"
      ]
     },
     "execution_count": 7,
     "metadata": {},
     "output_type": "execute_result"
    }
   ],
   "source": [
    "a=3\n",
    "type(a)"
   ]
  },
  {
   "cell_type": "code",
   "execution_count": 8,
   "id": "2e91e795-57f5-4044-b6b6-d829ed654b33",
   "metadata": {},
   "outputs": [
    {
     "data": {
      "text/plain": [
       "3.0"
      ]
     },
     "execution_count": 8,
     "metadata": {},
     "output_type": "execute_result"
    }
   ],
   "source": [
    "float(a) "
   ]
  },
  {
   "cell_type": "code",
   "execution_count": 12,
   "id": "55188932-4075-4b60-a3ff-69b3ced326d7",
   "metadata": {},
   "outputs": [
    {
     "data": {
      "text/plain": [
       "int"
      ]
     },
     "execution_count": 12,
     "metadata": {},
     "output_type": "execute_result"
    }
   ],
   "source": [
    "b=0\n",
    "type(b)"
   ]
  },
  {
   "cell_type": "code",
   "execution_count": 13,
   "id": "298acd3f-cc88-40f9-a0f9-2bd0b3a8e796",
   "metadata": {},
   "outputs": [
    {
     "data": {
      "text/plain": [
       "0"
      ]
     },
     "execution_count": 13,
     "metadata": {},
     "output_type": "execute_result"
    }
   ],
   "source": [
    "int(b)"
   ]
  },
  {
   "cell_type": "code",
   "execution_count": 14,
   "id": "ab1abb7e-6e68-4b0a-8c11-2e7d131863e0",
   "metadata": {},
   "outputs": [
    {
     "data": {
      "text/plain": [
       "False"
      ]
     },
     "execution_count": 14,
     "metadata": {},
     "output_type": "execute_result"
    }
   ],
   "source": [
    "bool(b)"
   ]
  },
  {
   "cell_type": "raw",
   "id": "84450d89-b744-412e-bdd0-cce97c7b24bf",
   "metadata": {},
   "source": [
    "Ans 6: The conditions wchich are given for checking is true then only the code will run for that part otherwise if its false code will not run for that part and next part will run .\n"
   ]
  },
  {
   "cell_type": "code",
   "execution_count": 27,
   "id": "7ec42498-8903-4035-a3ac-cbfbff77dbe2",
   "metadata": {},
   "outputs": [
    {
     "name": "stdin",
     "output_type": "stream",
     "text": [
      "enter the value of a 1\n",
      "enter the value of b 2\n"
     ]
    },
    {
     "name": "stdout",
     "output_type": "stream",
     "text": [
      "no\n"
     ]
    }
   ],
   "source": [
    "a=input(\"enter the value of a\")\n",
    "b=input(\"enter the value of b\")\n",
    "if(a>b):\n",
    "    print(\"yes\")\n",
    "else:\n",
    "    print(\"no\")\n",
    "    \n",
    "    \n",
    "    \n",
    "    \n",
    "\n",
    "          "
   ]
  },
  {
   "cell_type": "code",
   "execution_count": 28,
   "id": "ae242cb3-3487-4170-81aa-0c52129885c1",
   "metadata": {},
   "outputs": [
    {
     "name": "stdin",
     "output_type": "stream",
     "text": [
      "enter the value of a 5\n",
      "enter the value of b 1\n"
     ]
    },
    {
     "name": "stdout",
     "output_type": "stream",
     "text": [
      "yes\n"
     ]
    }
   ],
   "source": [
    "a=input(\"enter the value of a\")\n",
    "b=input(\"enter the value of b\")\n",
    "if(a>b):\n",
    "    print(\"yes\")\n",
    "else:\n",
    "    print(\"no\")\n",
    "    "
   ]
  },
  {
   "cell_type": "code",
   "execution_count": 29,
   "id": "b81c0cca-3f19-4eb6-bd5f-60aeba4bf10a",
   "metadata": {},
   "outputs": [
    {
     "name": "stdin",
     "output_type": "stream",
     "text": [
      "enter the value of a 2\n"
     ]
    },
    {
     "name": "stdout",
     "output_type": "stream",
     "text": [
      "FALSE\n"
     ]
    }
   ],
   "source": [
    "a=int(input(\"enter the value of a\"))\n",
    "if(a==1):\n",
    "    print(\"TRUE\")\n",
    "else:\n",
    "    print(\"FALSE\")"
   ]
  },
  {
   "cell_type": "code",
   "execution_count": 31,
   "id": "91a5085f-3473-4c2a-924b-8509d04b0981",
   "metadata": {},
   "outputs": [
    {
     "name": "stdin",
     "output_type": "stream",
     "text": [
      "enter the value of a 1\n"
     ]
    },
    {
     "name": "stdout",
     "output_type": "stream",
     "text": [
      "TRUE\n"
     ]
    }
   ],
   "source": [
    "a=int(input(\"enter the value of a\"))\n",
    "if(a==1):\n",
    "    print(\"TRUE\")\n",
    "else:\n",
    "    print(\"FALSE\")"
   ]
  },
  {
   "cell_type": "raw",
   "id": "28a9df3e-632b-40fe-8812-86b22512557a",
   "metadata": {},
   "source": [
    "Ans 7: There are 2 types of loop\n",
    "FOR LOOP :It iterate over  a sequence of elements.\n",
    "WHILE LOOP: It repetedly execute a block of code untill thi given  code is satisfied."
   ]
  },
  {
   "cell_type": "code",
   "execution_count": 1,
   "id": "5629c4f9-8da2-41c8-8f9d-476ea0d3da74",
   "metadata": {},
   "outputs": [
    {
     "name": "stdout",
     "output_type": "stream",
     "text": [
      "0\n",
      "1\n",
      "2\n",
      "3\n",
      "4\n",
      "5\n",
      "6\n",
      "7\n",
      "8\n",
      "9\n"
     ]
    }
   ],
   "source": [
    "for i in range(0,10):\n",
    "    print(i)"
   ]
  },
  {
   "cell_type": "code",
   "execution_count": 1,
   "id": "0b7b2f2e-1764-4747-88f3-ed1c1d5bdf77",
   "metadata": {},
   "outputs": [
    {
     "name": "stdout",
     "output_type": "stream",
     "text": [
      "1\n",
      "2\n",
      "3\n",
      "4\n",
      "5\n",
      "6\n",
      "7\n",
      "8\n",
      "9\n",
      "10\n"
     ]
    }
   ],
   "source": [
    "i=1\n",
    "while i<=10:\n",
    "    print(i)\n",
    "    i=i+1\n"
   ]
  },
  {
   "cell_type": "code",
   "execution_count": null,
   "id": "dfffeaed-325b-472a-bd3c-f41de3d16e72",
   "metadata": {},
   "outputs": [],
   "source": []
  }
 ],
 "metadata": {
  "kernelspec": {
   "display_name": "Python 3 (ipykernel)",
   "language": "python",
   "name": "python3"
  },
  "language_info": {
   "codemirror_mode": {
    "name": "ipython",
    "version": 3
   },
   "file_extension": ".py",
   "mimetype": "text/x-python",
   "name": "python",
   "nbconvert_exporter": "python",
   "pygments_lexer": "ipython3",
   "version": "3.12.7"
  }
 },
 "nbformat": 4,
 "nbformat_minor": 5
}
